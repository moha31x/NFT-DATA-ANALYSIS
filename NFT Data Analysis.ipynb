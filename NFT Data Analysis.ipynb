{
 "cells": [
  {
   "cell_type": "code",
   "execution_count": 1,
   "id": "d844b50f",
   "metadata": {
    "execution": {
     "iopub.execute_input": "2021-11-25T17:21:59.003342Z",
     "iopub.status.busy": "2021-11-25T17:21:59.001464Z",
     "iopub.status.idle": "2021-11-25T17:21:59.014997Z",
     "shell.execute_reply": "2021-11-25T17:21:59.014250Z",
     "shell.execute_reply.started": "2021-11-25T17:14:19.811231Z"
    },
    "papermill": {
     "duration": 0.036663,
     "end_time": "2021-11-25T17:21:59.015223",
     "exception": false,
     "start_time": "2021-11-25T17:21:58.978560",
     "status": "completed"
    },
    "tags": []
   },
   "outputs": [],
   "source": [
    "import pandas as pd\n",
    "import numpy as np\n",
    "import math\n",
    "import matplotlib.pyplot as plt"
   ]
  },
  {
   "cell_type": "code",
   "execution_count": 2,
   "id": "6f779235",
   "metadata": {
    "execution": {
     "iopub.execute_input": "2021-11-25T17:21:59.055786Z",
     "iopub.status.busy": "2021-11-25T17:21:59.054816Z",
     "iopub.status.idle": "2021-11-25T17:21:59.095511Z",
     "shell.execute_reply": "2021-11-25T17:21:59.096026Z",
     "shell.execute_reply.started": "2021-11-25T17:19:53.064816Z"
    },
    "papermill": {
     "duration": 0.063418,
     "end_time": "2021-11-25T17:21:59.096234",
     "exception": false,
     "start_time": "2021-11-25T17:21:59.032816",
     "status": "completed"
    },
    "tags": []
   },
   "outputs": [
    {
     "data": {
      "text/html": [
       "<div>\n",
       "<style scoped>\n",
       "    .dataframe tbody tr th:only-of-type {\n",
       "        vertical-align: middle;\n",
       "    }\n",
       "\n",
       "    .dataframe tbody tr th {\n",
       "        vertical-align: top;\n",
       "    }\n",
       "\n",
       "    .dataframe thead th {\n",
       "        text-align: right;\n",
       "    }\n",
       "</style>\n",
       "<table border=\"1\" class=\"dataframe\">\n",
       "  <thead>\n",
       "    <tr style=\"text-align: right;\">\n",
       "      <th></th>\n",
       "      <th>Collections</th>\n",
       "      <th>Sales</th>\n",
       "      <th>Buyers</th>\n",
       "      <th>Txns</th>\n",
       "      <th>Owners</th>\n",
       "    </tr>\n",
       "  </thead>\n",
       "  <tbody>\n",
       "    <tr>\n",
       "      <th>0</th>\n",
       "      <td>Axie Infinity</td>\n",
       "      <td>$3,328,148,500</td>\n",
       "      <td>1,079,811</td>\n",
       "      <td>9,755,511</td>\n",
       "      <td>2,656,431</td>\n",
       "    </tr>\n",
       "    <tr>\n",
       "      <th>1</th>\n",
       "      <td>CryptoPunks</td>\n",
       "      <td>$1,664,246,968</td>\n",
       "      <td>4,723</td>\n",
       "      <td>18,961</td>\n",
       "      <td>3,289</td>\n",
       "    </tr>\n",
       "    <tr>\n",
       "      <th>2</th>\n",
       "      <td>Art Blocks</td>\n",
       "      <td>$1,075,223,906</td>\n",
       "      <td>20,934</td>\n",
       "      <td>117,602</td>\n",
       "      <td>25,094</td>\n",
       "    </tr>\n",
       "    <tr>\n",
       "      <th>3</th>\n",
       "      <td>Bored Ape Yacht Club</td>\n",
       "      <td>$783,882,186</td>\n",
       "      <td>8,284</td>\n",
       "      <td>22,584</td>\n",
       "      <td>5,862</td>\n",
       "    </tr>\n",
       "    <tr>\n",
       "      <th>4</th>\n",
       "      <td>NBA Top Shot</td>\n",
       "      <td>$781,965,423</td>\n",
       "      <td>374,818</td>\n",
       "      <td>11,790,699</td>\n",
       "      <td>603,928</td>\n",
       "    </tr>\n",
       "    <tr>\n",
       "      <th>...</th>\n",
       "      <td>...</td>\n",
       "      <td>...</td>\n",
       "      <td>...</td>\n",
       "      <td>...</td>\n",
       "      <td>...</td>\n",
       "    </tr>\n",
       "    <tr>\n",
       "      <th>245</th>\n",
       "      <td>Evolution</td>\n",
       "      <td>$2,536,468</td>\n",
       "      <td>746</td>\n",
       "      <td>4,961</td>\n",
       "      <td>2,061</td>\n",
       "    </tr>\n",
       "    <tr>\n",
       "      <th>246</th>\n",
       "      <td>LegionPunks</td>\n",
       "      <td>$2,535,490</td>\n",
       "      <td>1,702</td>\n",
       "      <td>3,794</td>\n",
       "      <td>2,410</td>\n",
       "    </tr>\n",
       "    <tr>\n",
       "      <th>247</th>\n",
       "      <td>BabyApes</td>\n",
       "      <td>$2,521,714</td>\n",
       "      <td>1,671</td>\n",
       "      <td>3,405</td>\n",
       "      <td>2,785</td>\n",
       "    </tr>\n",
       "    <tr>\n",
       "      <th>248</th>\n",
       "      <td>Train of the Century</td>\n",
       "      <td>$2,504,080</td>\n",
       "      <td>3,139</td>\n",
       "      <td>39,460</td>\n",
       "      <td>3,160</td>\n",
       "    </tr>\n",
       "    <tr>\n",
       "      <th>249</th>\n",
       "      <td>Cyber Pharmacist</td>\n",
       "      <td>$2,498,805</td>\n",
       "      <td>3,206</td>\n",
       "      <td>8,452</td>\n",
       "      <td>3,689</td>\n",
       "    </tr>\n",
       "  </tbody>\n",
       "</table>\n",
       "<p>250 rows × 5 columns</p>\n",
       "</div>"
      ],
      "text/plain": [
       "              Collections           Sales     Buyers        Txns     Owners\n",
       "0           Axie Infinity  $3,328,148,500  1,079,811   9,755,511  2,656,431\n",
       "1             CryptoPunks  $1,664,246,968      4,723      18,961      3,289\n",
       "2              Art Blocks  $1,075,223,906     20,934     117,602     25,094\n",
       "3    Bored Ape Yacht Club    $783,882,186      8,284      22,584      5,862\n",
       "4            NBA Top Shot    $781,965,423    374,818  11,790,699    603,928\n",
       "..                    ...             ...        ...         ...        ...\n",
       "245             Evolution      $2,536,468        746       4,961      2,061\n",
       "246           LegionPunks      $2,535,490      1,702       3,794      2,410\n",
       "247              BabyApes      $2,521,714      1,671       3,405      2,785\n",
       "248  Train of the Century      $2,504,080      3,139      39,460      3,160\n",
       "249      Cyber Pharmacist      $2,498,805      3,206       8,452      3,689\n",
       "\n",
       "[250 rows x 5 columns]"
      ]
     },
     "execution_count": 2,
     "metadata": {},
     "output_type": "execute_result"
    }
   ],
   "source": [
    "df = pd.read_csv('../input/nft-collections-dataset/nft_sales.csv')\n",
    "df"
   ]
  },
  {
   "cell_type": "code",
   "execution_count": 3,
   "id": "e9e42976",
   "metadata": {
    "execution": {
     "iopub.execute_input": "2021-11-25T17:21:59.135931Z",
     "iopub.status.busy": "2021-11-25T17:21:59.134975Z",
     "iopub.status.idle": "2021-11-25T17:21:59.162735Z",
     "shell.execute_reply": "2021-11-25T17:21:59.163345Z",
     "shell.execute_reply.started": "2021-11-25T17:19:59.482865Z"
    },
    "papermill": {
     "duration": 0.049537,
     "end_time": "2021-11-25T17:21:59.163551",
     "exception": false,
     "start_time": "2021-11-25T17:21:59.114014",
     "status": "completed"
    },
    "tags": []
   },
   "outputs": [
    {
     "data": {
      "text/html": [
       "<div>\n",
       "<style scoped>\n",
       "    .dataframe tbody tr th:only-of-type {\n",
       "        vertical-align: middle;\n",
       "    }\n",
       "\n",
       "    .dataframe tbody tr th {\n",
       "        vertical-align: top;\n",
       "    }\n",
       "\n",
       "    .dataframe thead th {\n",
       "        text-align: right;\n",
       "    }\n",
       "</style>\n",
       "<table border=\"1\" class=\"dataframe\">\n",
       "  <thead>\n",
       "    <tr style=\"text-align: right;\">\n",
       "      <th></th>\n",
       "      <th>Collections</th>\n",
       "      <th>Sales</th>\n",
       "      <th>Buyers</th>\n",
       "      <th>Txns</th>\n",
       "      <th>Owners</th>\n",
       "    </tr>\n",
       "  </thead>\n",
       "  <tbody>\n",
       "    <tr>\n",
       "      <th>count</th>\n",
       "      <td>250</td>\n",
       "      <td>250</td>\n",
       "      <td>250</td>\n",
       "      <td>250</td>\n",
       "      <td>244</td>\n",
       "    </tr>\n",
       "    <tr>\n",
       "      <th>unique</th>\n",
       "      <td>250</td>\n",
       "      <td>250</td>\n",
       "      <td>246</td>\n",
       "      <td>249</td>\n",
       "      <td>235</td>\n",
       "    </tr>\n",
       "    <tr>\n",
       "      <th>top</th>\n",
       "      <td>Axie Infinity</td>\n",
       "      <td>$3,328,148,500</td>\n",
       "      <td>3,246</td>\n",
       "      <td>4,523</td>\n",
       "      <td>1</td>\n",
       "    </tr>\n",
       "    <tr>\n",
       "      <th>freq</th>\n",
       "      <td>1</td>\n",
       "      <td>1</td>\n",
       "      <td>2</td>\n",
       "      <td>2</td>\n",
       "      <td>5</td>\n",
       "    </tr>\n",
       "  </tbody>\n",
       "</table>\n",
       "</div>"
      ],
      "text/plain": [
       "          Collections           Sales Buyers   Txns Owners\n",
       "count             250             250    250    250    244\n",
       "unique            250             250    246    249    235\n",
       "top     Axie Infinity  $3,328,148,500  3,246  4,523      1\n",
       "freq                1               1      2      2      5"
      ]
     },
     "execution_count": 3,
     "metadata": {},
     "output_type": "execute_result"
    }
   ],
   "source": [
    "df.describe()"
   ]
  },
  {
   "cell_type": "code",
   "execution_count": 4,
   "id": "17b9d531",
   "metadata": {
    "execution": {
     "iopub.execute_input": "2021-11-25T17:21:59.203192Z",
     "iopub.status.busy": "2021-11-25T17:21:59.202519Z",
     "iopub.status.idle": "2021-11-25T17:21:59.216081Z",
     "shell.execute_reply": "2021-11-25T17:21:59.215434Z",
     "shell.execute_reply.started": "2021-11-25T17:20:03.108696Z"
    },
    "papermill": {
     "duration": 0.034247,
     "end_time": "2021-11-25T17:21:59.216239",
     "exception": false,
     "start_time": "2021-11-25T17:21:59.181992",
     "status": "completed"
    },
    "tags": []
   },
   "outputs": [
    {
     "name": "stdout",
     "output_type": "stream",
     "text": [
      "<class 'pandas.core.frame.DataFrame'>\n",
      "RangeIndex: 250 entries, 0 to 249\n",
      "Data columns (total 5 columns):\n",
      " #   Column       Non-Null Count  Dtype \n",
      "---  ------       --------------  ----- \n",
      " 0   Collections  250 non-null    object\n",
      " 1   Sales        250 non-null    object\n",
      " 2   Buyers       250 non-null    object\n",
      " 3   Txns         250 non-null    object\n",
      " 4   Owners       244 non-null    object\n",
      "dtypes: object(5)\n",
      "memory usage: 9.9+ KB\n"
     ]
    }
   ],
   "source": [
    "df.info()"
   ]
  },
  {
   "cell_type": "markdown",
   "id": "e28fb413",
   "metadata": {
    "papermill": {
     "duration": 0.01799,
     "end_time": "2021-11-25T17:21:59.252567",
     "exception": false,
     "start_time": "2021-11-25T17:21:59.234577",
     "status": "completed"
    },
    "tags": []
   },
   "source": [
    "### Cleaning the data set"
   ]
  },
  {
   "cell_type": "code",
   "execution_count": 5,
   "id": "2c181981",
   "metadata": {
    "execution": {
     "iopub.execute_input": "2021-11-25T17:21:59.315069Z",
     "iopub.status.busy": "2021-11-25T17:21:59.314325Z",
     "iopub.status.idle": "2021-11-25T17:21:59.318007Z",
     "shell.execute_reply": "2021-11-25T17:21:59.318506Z",
     "shell.execute_reply.started": "2021-11-25T17:20:06.204462Z"
    },
    "papermill": {
     "duration": 0.047661,
     "end_time": "2021-11-25T17:21:59.318674",
     "exception": false,
     "start_time": "2021-11-25T17:21:59.271013",
     "status": "completed"
    },
    "tags": []
   },
   "outputs": [
    {
     "name": "stderr",
     "output_type": "stream",
     "text": [
      "/opt/conda/lib/python3.7/site-packages/ipykernel_launcher.py:3: FutureWarning: The default value of regex will change from True to False in a future version. In addition, single character regular expressions will *not* be treated as literal strings when regex=True.\n",
      "  This is separate from the ipykernel package so we can avoid doing imports until\n"
     ]
    },
    {
     "data": {
      "text/html": [
       "<div>\n",
       "<style scoped>\n",
       "    .dataframe tbody tr th:only-of-type {\n",
       "        vertical-align: middle;\n",
       "    }\n",
       "\n",
       "    .dataframe tbody tr th {\n",
       "        vertical-align: top;\n",
       "    }\n",
       "\n",
       "    .dataframe thead th {\n",
       "        text-align: right;\n",
       "    }\n",
       "</style>\n",
       "<table border=\"1\" class=\"dataframe\">\n",
       "  <thead>\n",
       "    <tr style=\"text-align: right;\">\n",
       "      <th></th>\n",
       "      <th>Collections</th>\n",
       "      <th>Sales in USD</th>\n",
       "      <th>Buyers</th>\n",
       "      <th>Transactions</th>\n",
       "      <th>Owners</th>\n",
       "    </tr>\n",
       "  </thead>\n",
       "  <tbody>\n",
       "    <tr>\n",
       "      <th>0</th>\n",
       "      <td>Axie Infinity</td>\n",
       "      <td>3328148500</td>\n",
       "      <td>1079811</td>\n",
       "      <td>9755511</td>\n",
       "      <td>2656431</td>\n",
       "    </tr>\n",
       "    <tr>\n",
       "      <th>1</th>\n",
       "      <td>CryptoPunks</td>\n",
       "      <td>1664246968</td>\n",
       "      <td>4723</td>\n",
       "      <td>18961</td>\n",
       "      <td>3289</td>\n",
       "    </tr>\n",
       "    <tr>\n",
       "      <th>2</th>\n",
       "      <td>Art Blocks</td>\n",
       "      <td>1075223906</td>\n",
       "      <td>20934</td>\n",
       "      <td>117602</td>\n",
       "      <td>25094</td>\n",
       "    </tr>\n",
       "    <tr>\n",
       "      <th>3</th>\n",
       "      <td>Bored Ape Yacht Club</td>\n",
       "      <td>783882186</td>\n",
       "      <td>8284</td>\n",
       "      <td>22584</td>\n",
       "      <td>5862</td>\n",
       "    </tr>\n",
       "    <tr>\n",
       "      <th>4</th>\n",
       "      <td>NBA Top Shot</td>\n",
       "      <td>781965423</td>\n",
       "      <td>374818</td>\n",
       "      <td>11790699</td>\n",
       "      <td>603928</td>\n",
       "    </tr>\n",
       "    <tr>\n",
       "      <th>...</th>\n",
       "      <td>...</td>\n",
       "      <td>...</td>\n",
       "      <td>...</td>\n",
       "      <td>...</td>\n",
       "      <td>...</td>\n",
       "    </tr>\n",
       "    <tr>\n",
       "      <th>245</th>\n",
       "      <td>Evolution</td>\n",
       "      <td>2536468</td>\n",
       "      <td>746</td>\n",
       "      <td>4961</td>\n",
       "      <td>2061</td>\n",
       "    </tr>\n",
       "    <tr>\n",
       "      <th>246</th>\n",
       "      <td>LegionPunks</td>\n",
       "      <td>2535490</td>\n",
       "      <td>1702</td>\n",
       "      <td>3794</td>\n",
       "      <td>2410</td>\n",
       "    </tr>\n",
       "    <tr>\n",
       "      <th>247</th>\n",
       "      <td>BabyApes</td>\n",
       "      <td>2521714</td>\n",
       "      <td>1671</td>\n",
       "      <td>3405</td>\n",
       "      <td>2785</td>\n",
       "    </tr>\n",
       "    <tr>\n",
       "      <th>248</th>\n",
       "      <td>Train of the Century</td>\n",
       "      <td>2504080</td>\n",
       "      <td>3139</td>\n",
       "      <td>39460</td>\n",
       "      <td>3160</td>\n",
       "    </tr>\n",
       "    <tr>\n",
       "      <th>249</th>\n",
       "      <td>Cyber Pharmacist</td>\n",
       "      <td>2498805</td>\n",
       "      <td>3206</td>\n",
       "      <td>8452</td>\n",
       "      <td>3689</td>\n",
       "    </tr>\n",
       "  </tbody>\n",
       "</table>\n",
       "<p>244 rows × 5 columns</p>\n",
       "</div>"
      ],
      "text/plain": [
       "              Collections Sales in USD   Buyers Transactions   Owners\n",
       "0           Axie Infinity   3328148500  1079811      9755511  2656431\n",
       "1             CryptoPunks   1664246968     4723        18961     3289\n",
       "2              Art Blocks   1075223906    20934       117602    25094\n",
       "3    Bored Ape Yacht Club    783882186     8284        22584     5862\n",
       "4            NBA Top Shot    781965423   374818     11790699   603928\n",
       "..                    ...          ...      ...          ...      ...\n",
       "245             Evolution      2536468      746         4961     2061\n",
       "246           LegionPunks      2535490     1702         3794     2410\n",
       "247              BabyApes      2521714     1671         3405     2785\n",
       "248  Train of the Century      2504080     3139        39460     3160\n",
       "249      Cyber Pharmacist      2498805     3206         8452     3689\n",
       "\n",
       "[244 rows x 5 columns]"
      ]
     },
     "execution_count": 5,
     "metadata": {},
     "output_type": "execute_result"
    }
   ],
   "source": [
    "df.rename(columns = {'Sales':'Sales in USD','Txns':'Transactions'}, inplace = True)\n",
    "df['Sales in USD'] = df['Sales in USD'].str.replace(',', '')\n",
    "df['Sales in USD'] = df['Sales in USD'].str.replace('$', '')\n",
    "df['Buyers'] = df['Buyers'].str.replace(',','')\n",
    "df['Transactions'] = df['Transactions'].str.replace(',','')\n",
    "df['Owners'] = df['Owners'].str.replace(',','')\n",
    "df=df.dropna()\n",
    "df\n"
   ]
  },
  {
   "cell_type": "code",
   "execution_count": 6,
   "id": "802327c1",
   "metadata": {
    "execution": {
     "iopub.execute_input": "2021-11-25T17:21:59.366983Z",
     "iopub.status.busy": "2021-11-25T17:21:59.366286Z",
     "iopub.status.idle": "2021-11-25T17:21:59.368790Z",
     "shell.execute_reply": "2021-11-25T17:21:59.369282Z",
     "shell.execute_reply.started": "2021-11-25T17:20:13.348335Z"
    },
    "papermill": {
     "duration": 0.031152,
     "end_time": "2021-11-25T17:21:59.369451",
     "exception": false,
     "start_time": "2021-11-25T17:21:59.338299",
     "status": "completed"
    },
    "tags": []
   },
   "outputs": [
    {
     "name": "stderr",
     "output_type": "stream",
     "text": [
      "/opt/conda/lib/python3.7/site-packages/ipykernel_launcher.py:2: SettingWithCopyWarning: \n",
      "A value is trying to be set on a copy of a slice from a DataFrame.\n",
      "Try using .loc[row_indexer,col_indexer] = value instead\n",
      "\n",
      "See the caveats in the documentation: https://pandas.pydata.org/pandas-docs/stable/user_guide/indexing.html#returning-a-view-versus-a-copy\n",
      "  \n",
      "/opt/conda/lib/python3.7/site-packages/ipykernel_launcher.py:3: SettingWithCopyWarning: \n",
      "A value is trying to be set on a copy of a slice from a DataFrame.\n",
      "Try using .loc[row_indexer,col_indexer] = value instead\n",
      "\n",
      "See the caveats in the documentation: https://pandas.pydata.org/pandas-docs/stable/user_guide/indexing.html#returning-a-view-versus-a-copy\n",
      "  This is separate from the ipykernel package so we can avoid doing imports until\n",
      "/opt/conda/lib/python3.7/site-packages/ipykernel_launcher.py:4: SettingWithCopyWarning: \n",
      "A value is trying to be set on a copy of a slice from a DataFrame.\n",
      "Try using .loc[row_indexer,col_indexer] = value instead\n",
      "\n",
      "See the caveats in the documentation: https://pandas.pydata.org/pandas-docs/stable/user_guide/indexing.html#returning-a-view-versus-a-copy\n",
      "  after removing the cwd from sys.path.\n",
      "/opt/conda/lib/python3.7/site-packages/ipykernel_launcher.py:5: SettingWithCopyWarning: \n",
      "A value is trying to be set on a copy of a slice from a DataFrame.\n",
      "Try using .loc[row_indexer,col_indexer] = value instead\n",
      "\n",
      "See the caveats in the documentation: https://pandas.pydata.org/pandas-docs/stable/user_guide/indexing.html#returning-a-view-versus-a-copy\n",
      "  \"\"\"\n"
     ]
    }
   ],
   "source": [
    "# CONVERTING STRING NUMERICALS TO INT\n",
    "df['Sales in USD'] = df['Sales in USD'].astype('int64')\n",
    "df['Buyers'] = df['Buyers'].astype('int64')\n",
    "df['Transactions'] = df['Transactions'].astype('int64')\n",
    "df['Owners'] = df['Owners'].astype('int32')\n"
   ]
  },
  {
   "cell_type": "code",
   "execution_count": 7,
   "id": "33f2c1de",
   "metadata": {
    "execution": {
     "iopub.execute_input": "2021-11-25T17:21:59.414861Z",
     "iopub.status.busy": "2021-11-25T17:21:59.414109Z",
     "iopub.status.idle": "2021-11-25T17:21:59.417083Z",
     "shell.execute_reply": "2021-11-25T17:21:59.417738Z",
     "shell.execute_reply.started": "2021-11-25T17:20:19.005223Z"
    },
    "papermill": {
     "duration": 0.028861,
     "end_time": "2021-11-25T17:21:59.417917",
     "exception": false,
     "start_time": "2021-11-25T17:21:59.389056",
     "status": "completed"
    },
    "tags": []
   },
   "outputs": [
    {
     "name": "stderr",
     "output_type": "stream",
     "text": [
      "/opt/conda/lib/python3.7/site-packages/ipykernel_launcher.py:2: SettingWithCopyWarning: \n",
      "A value is trying to be set on a copy of a slice from a DataFrame.\n",
      "Try using .loc[row_indexer,col_indexer] = value instead\n",
      "\n",
      "See the caveats in the documentation: https://pandas.pydata.org/pandas-docs/stable/user_guide/indexing.html#returning-a-view-versus-a-copy\n",
      "  \n"
     ]
    }
   ],
   "source": [
    "# MODIFYING THE DATA SET\n",
    "df['100 mil club'] = np.where(df['Sales in USD']>=100000000, 'Yes', 'No')"
   ]
  },
  {
   "cell_type": "markdown",
   "id": "466c86de",
   "metadata": {
    "papermill": {
     "duration": 0.019394,
     "end_time": "2021-11-25T17:21:59.457240",
     "exception": false,
     "start_time": "2021-11-25T17:21:59.437846",
     "status": "completed"
    },
    "tags": []
   },
   "source": [
    "### Sales of the NFTs which are under the 'Bored Ape' Collection"
   ]
  },
  {
   "cell_type": "code",
   "execution_count": 8,
   "id": "346d96d9",
   "metadata": {
    "execution": {
     "iopub.execute_input": "2021-11-25T17:21:59.500216Z",
     "iopub.status.busy": "2021-11-25T17:21:59.499532Z",
     "iopub.status.idle": "2021-11-25T17:21:59.516727Z",
     "shell.execute_reply": "2021-11-25T17:21:59.517276Z",
     "shell.execute_reply.started": "2021-11-25T17:20:25.117147Z"
    },
    "papermill": {
     "duration": 0.040564,
     "end_time": "2021-11-25T17:21:59.517460",
     "exception": false,
     "start_time": "2021-11-25T17:21:59.476896",
     "status": "completed"
    },
    "tags": []
   },
   "outputs": [
    {
     "name": "stdout",
     "output_type": "stream",
     "text": [
      "Total Sales of 'Bored Ape' Collection is 982,841,231$\n"
     ]
    },
    {
     "data": {
      "text/html": [
       "<div>\n",
       "<style scoped>\n",
       "    .dataframe tbody tr th:only-of-type {\n",
       "        vertical-align: middle;\n",
       "    }\n",
       "\n",
       "    .dataframe tbody tr th {\n",
       "        vertical-align: top;\n",
       "    }\n",
       "\n",
       "    .dataframe thead th {\n",
       "        text-align: right;\n",
       "    }\n",
       "</style>\n",
       "<table border=\"1\" class=\"dataframe\">\n",
       "  <thead>\n",
       "    <tr style=\"text-align: right;\">\n",
       "      <th></th>\n",
       "      <th>Collections</th>\n",
       "      <th>Sales in USD</th>\n",
       "      <th>Buyers</th>\n",
       "      <th>Transactions</th>\n",
       "      <th>Owners</th>\n",
       "      <th>100 mil club</th>\n",
       "    </tr>\n",
       "  </thead>\n",
       "  <tbody>\n",
       "    <tr>\n",
       "      <th>3</th>\n",
       "      <td>Bored Ape Yacht Club</td>\n",
       "      <td>783882186</td>\n",
       "      <td>8284</td>\n",
       "      <td>22584</td>\n",
       "      <td>5862</td>\n",
       "      <td>Yes</td>\n",
       "    </tr>\n",
       "    <tr>\n",
       "      <th>21</th>\n",
       "      <td>Bored Ape Kennel Club</td>\n",
       "      <td>108210267</td>\n",
       "      <td>5622</td>\n",
       "      <td>13715</td>\n",
       "      <td>5013</td>\n",
       "      <td>Yes</td>\n",
       "    </tr>\n",
       "    <tr>\n",
       "      <th>31</th>\n",
       "      <td>Bored Ape Chemistry Club</td>\n",
       "      <td>79456705</td>\n",
       "      <td>1454</td>\n",
       "      <td>2508</td>\n",
       "      <td>1</td>\n",
       "      <td>No</td>\n",
       "    </tr>\n",
       "    <tr>\n",
       "      <th>126</th>\n",
       "      <td>Bored Mummy Waking Up</td>\n",
       "      <td>11292073</td>\n",
       "      <td>6030</td>\n",
       "      <td>14816</td>\n",
       "      <td>3682</td>\n",
       "      <td>No</td>\n",
       "    </tr>\n",
       "  </tbody>\n",
       "</table>\n",
       "</div>"
      ],
      "text/plain": [
       "                  Collections  Sales in USD  Buyers  Transactions  Owners  \\\n",
       "3        Bored Ape Yacht Club     783882186    8284         22584    5862   \n",
       "21      Bored Ape Kennel Club     108210267    5622         13715    5013   \n",
       "31   Bored Ape Chemistry Club      79456705    1454          2508       1   \n",
       "126     Bored Mummy Waking Up      11292073    6030         14816    3682   \n",
       "\n",
       "    100 mil club  \n",
       "3            Yes  \n",
       "21           Yes  \n",
       "31            No  \n",
       "126           No  "
      ]
     },
     "execution_count": 8,
     "metadata": {},
     "output_type": "execute_result"
    }
   ],
   "source": [
    "bored_collection = df[df['Collections'].str.contains(\"Bored\")]\n",
    "\n",
    "\n",
    "sum_sales = bored_collection['Sales in USD'].sum()\n",
    "\n",
    "print(f\"Total Sales of 'Bored Ape' Collection is {sum_sales:,}$\")\n",
    "bored_collection\n"
   ]
  },
  {
   "cell_type": "markdown",
   "id": "1c921dc1",
   "metadata": {
    "papermill": {
     "duration": 0.020374,
     "end_time": "2021-11-25T17:21:59.558820",
     "exception": false,
     "start_time": "2021-11-25T17:21:59.538446",
     "status": "completed"
    },
    "tags": []
   },
   "source": [
    "#### BELOW GRAPH REPRESENTS TOTAL NUMBER OF OWNERS WHO OWN 'BORED APE' COLLECTION"
   ]
  },
  {
   "cell_type": "code",
   "execution_count": 9,
   "id": "edc84753",
   "metadata": {
    "execution": {
     "iopub.execute_input": "2021-11-25T17:21:59.632365Z",
     "iopub.status.busy": "2021-11-25T17:21:59.631619Z",
     "iopub.status.idle": "2021-11-25T17:21:59.858182Z",
     "shell.execute_reply": "2021-11-25T17:21:59.858713Z",
     "shell.execute_reply.started": "2021-11-25T17:20:33.236123Z"
    },
    "papermill": {
     "duration": 0.279288,
     "end_time": "2021-11-25T17:21:59.858890",
     "exception": false,
     "start_time": "2021-11-25T17:21:59.579602",
     "status": "completed"
    },
    "tags": []
   },
   "outputs": [
    {
     "data": {
      "image/png": "[encoded data removed]",
      "text/plain": [
       "<Figure size 500x500 with 1 Axes>"
      ]
     },
     "metadata": {},
     "output_type": "display_data"
    }
   ],
   "source": [
    "df2 = bored_collection.groupby('100 mil club').sum()\n",
    "owners = [df2['Owners'][1],df2['Owners'][0]]\n",
    "con = ['Yes','No']\n",
    "plt.style.use('default')\n",
    "plt.figure(figsize=(5,5))\n",
    "p =plt.bar(con,owners,width=0.45,color='#db4444')\n",
    "plt.ylim(0,14000)\n",
    "plt.title(\"Number of Owners who are a part of 100 mil club('Bored Ape' Collection)\")\n",
    "plt.bar_label(p)\n",
    "plt.xlabel('100 mil club')\n",
    "plt.ylabel('No. of owners')\n",
    "plt.show()"
   ]
  },
  {
   "cell_type": "code",
   "execution_count": 10,
   "id": "898aff6b",
   "metadata": {
    "execution": {
     "iopub.execute_input": "2021-11-25T17:21:59.937279Z",
     "iopub.status.busy": "2021-11-25T17:21:59.914953Z",
     "iopub.status.idle": "2021-11-25T17:22:00.142851Z",
     "shell.execute_reply": "2021-11-25T17:22:00.142240Z",
     "shell.execute_reply.started": "2021-11-25T17:20:40.211054Z"
    },
    "papermill": {
     "duration": 0.261802,
     "end_time": "2021-11-25T17:22:00.142994",
     "exception": false,
     "start_time": "2021-11-25T17:21:59.881192",
     "status": "completed"
    },
    "tags": []
   },
   "outputs": [
    {
     "data": {
      "image/png": "[encoded data removed]",
      "text/plain": [
       "<Figure size 1100x400 with 1 Axes>"
      ]
     },
     "metadata": {},
     "output_type": "display_data"
    }
   ],
   "source": [
    "# SALES AS COMPARED TO EACH OTHER\n",
    "collection = bored_collection['Collections']\n",
    "sales = bored_collection['Sales in USD']\n",
    "plt.style.use('ggplot')\n",
    "plt.figure(figsize=(11,4))\n",
    "plt.bar(collection,sales)\n",
    "plt.title('Sales of Bored Ape Collection')\n",
    "plt.xlabel('Collections')\n",
    "plt.ylabel('Sales in $')\n",
    "plt.show()"
   ]
  },
  {
   "cell_type": "markdown",
   "id": "4aafd829",
   "metadata": {
    "papermill": {
     "duration": 0.023258,
     "end_time": "2021-11-25T17:22:00.189689",
     "exception": false,
     "start_time": "2021-11-25T17:22:00.166431",
     "status": "completed"
    },
    "tags": []
   },
   "source": [
    "### LETS FINDOUT AVERAGE SALES OF 100 MILLION CLUB"
   ]
  },
  {
   "cell_type": "code",
   "execution_count": 11,
   "id": "9b897528",
   "metadata": {
    "execution": {
     "iopub.execute_input": "2021-11-25T17:22:00.239472Z",
     "iopub.status.busy": "2021-11-25T17:22:00.238774Z",
     "iopub.status.idle": "2021-11-25T17:22:00.247851Z",
     "shell.execute_reply": "2021-11-25T17:22:00.248387Z",
     "shell.execute_reply.started": "2021-11-25T17:20:50.322764Z"
    },
    "papermill": {
     "duration": 0.03586,
     "end_time": "2021-11-25T17:22:00.248577",
     "exception": false,
     "start_time": "2021-11-25T17:22:00.212717",
     "status": "completed"
    },
    "tags": []
   },
   "outputs": [
    {
     "name": "stdout",
     "output_type": "stream",
     "text": [
      "Average sales of 100 million club is 457,926,711$\n"
     ]
    }
   ],
   "source": [
    "df_100 = df.loc[df['100 mil club'] == 'Yes']\n",
    "average_sales_100 =round(df_100['Sales in USD'].mean())\n",
    "df_no100 = df.loc[df['100 mil club'] == 'No']\n",
    "average_sales_no100 = round(df_no100['Sales in USD'].mean())\n",
    "print(f'Average sales of 100 million club is {average_sales_100:,}$')\n"
   ]
  },
  {
   "cell_type": "code",
   "execution_count": 12,
   "id": "56f076bb",
   "metadata": {
    "execution": {
     "iopub.execute_input": "2021-11-25T17:22:00.299408Z",
     "iopub.status.busy": "2021-11-25T17:22:00.298717Z",
     "iopub.status.idle": "2021-11-25T17:22:00.473945Z",
     "shell.execute_reply": "2021-11-25T17:22:00.474544Z",
     "shell.execute_reply.started": "2021-11-25T17:20:54.209581Z"
    },
    "papermill": {
     "duration": 0.202263,
     "end_time": "2021-11-25T17:22:00.474733",
     "exception": false,
     "start_time": "2021-11-25T17:22:00.272470",
     "status": "completed"
    },
    "tags": []
   },
   "outputs": [
    {
     "data": {
      "image/png": "[encoded data removed]",
      "text/plain": [
       "<Figure size 400x500 with 1 Axes>"
      ]
     },
     "metadata": {},
     "output_type": "display_data"
    }
   ],
   "source": [
    "x= ['100 mil club','Not in 100 mil club']\n",
    "avg = [average_sales_100,average_sales_no100]\n",
    "\n",
    "plt.style.use('seaborn-pastel')\n",
    "plt.figure(figsize=(4,5))\n",
    "\n",
    "plt.bar(x,avg)\n",
    "plt.title('Average sales')\n",
    "plt.xlabel('Collections')\n",
    "plt.ylabel('Sales in USD $')\n",
    "plt.show()"
   ]
  },
  {
   "cell_type": "markdown",
   "id": "c89aa506",
   "metadata": {
    "papermill": {
     "duration": 0.025243,
     "end_time": "2021-11-25T17:22:00.525457",
     "exception": false,
     "start_time": "2021-11-25T17:22:00.500214",
     "status": "completed"
    },
    "tags": []
   },
   "source": [
    "#### Visualization of how much percentage of total collections belongs to 100 mil club"
   ]
  },
  {
   "cell_type": "code",
   "execution_count": 13,
   "id": "55fe374b",
   "metadata": {
    "execution": {
     "iopub.execute_input": "2021-11-25T17:22:00.577667Z",
     "iopub.status.busy": "2021-11-25T17:22:00.576948Z",
     "iopub.status.idle": "2021-11-25T17:22:00.797703Z",
     "shell.execute_reply": "2021-11-25T17:22:00.796918Z",
     "shell.execute_reply.started": "2021-11-25T17:21:04.196602Z"
    },
    "papermill": {
     "duration": 0.247915,
     "end_time": "2021-11-25T17:22:00.797858",
     "exception": false,
     "start_time": "2021-11-25T17:22:00.549943",
     "status": "completed"
    },
    "tags": []
   },
   "outputs": [
    {
     "data": {
      "image/png": "[encoded data removed]",
      "text/plain": [
       "<Figure size 600x600 with 1 Axes>"
      ]
     },
     "metadata": {},
     "output_type": "display_data"
    }
   ],
   "source": [
    "count = df.groupby(['100 mil club']).count()['Collections']\n",
    "labels = [\"Not in 100 mil club\",\"100 mil club\"]\n",
    "plt.style.use('seaborn-pastel')\n",
    "plt.figure(figsize=(6,6))\n",
    "plt.pie(count,labels=labels,autopct='%.2f %%',textprops={'fontsize': 14})\n",
    "plt.title(\"Distribution of Collections\",fontdict={'fontsize': 19})\n",
    "plt.legend(fontsize=10)\n",
    "plt.show()"
   ]
  },
  {
   "cell_type": "markdown",
   "id": "93c82074",
   "metadata": {
    "papermill": {
     "duration": 0.02584,
     "end_time": "2021-11-25T17:22:00.849811",
     "exception": false,
     "start_time": "2021-11-25T17:22:00.823971",
     "status": "completed"
    },
    "tags": []
   },
   "source": [
    "### THE COLLECTION MAKING MOST SALES (ALL TIME)"
   ]
  },
  {
   "cell_type": "code",
   "execution_count": 14,
   "id": "77c1e1f7",
   "metadata": {
    "execution": {
     "iopub.execute_input": "2021-11-25T17:22:00.909414Z",
     "iopub.status.busy": "2021-11-25T17:22:00.908711Z",
     "iopub.status.idle": "2021-11-25T17:22:00.913556Z",
     "shell.execute_reply": "2021-11-25T17:22:00.912995Z",
     "shell.execute_reply.started": "2021-11-25T17:21:12.796807Z"
    },
    "papermill": {
     "duration": 0.03814,
     "end_time": "2021-11-25T17:22:00.913708",
     "exception": false,
     "start_time": "2021-11-25T17:22:00.875568",
     "status": "completed"
    },
    "tags": []
   },
   "outputs": [
    {
     "name": "stdout",
     "output_type": "stream",
     "text": [
      "The NFT Collection having maxiumum sales is Axie Infinity\n",
      "Total sales of Axie Infinity are 3,328,148,500 USD\n"
     ]
    }
   ],
   "source": [
    "maximum_sale = df['Sales in USD'].max()\n",
    "collection = df[df['Sales in USD'] == maximum_sale ]['Collections'][0]\n",
    "\n",
    "print(f'The NFT Collection having maxiumum sales is {collection}')\n",
    "print(f'Total sales of {collection} are {maximum_sale:,} USD')"
   ]
  },
  {
   "cell_type": "markdown",
   "id": "856c6c3d",
   "metadata": {
    "papermill": {
     "duration": 0.025938,
     "end_time": "2021-11-25T17:22:00.965848",
     "exception": false,
     "start_time": "2021-11-25T17:22:00.939910",
     "status": "completed"
    },
    "tags": []
   },
   "source": [
    "### DOES MORE NUMBER OF TRANSACTION PROVE MORE SALES? LET'S FIND OUT..."
   ]
  },
  {
   "cell_type": "code",
   "execution_count": 15,
   "id": "fb618291",
   "metadata": {
    "execution": {
     "iopub.execute_input": "2021-11-25T17:22:01.029935Z",
     "iopub.status.busy": "2021-11-25T17:22:01.028921Z",
     "iopub.status.idle": "2021-11-25T17:22:01.349078Z",
     "shell.execute_reply": "2021-11-25T17:22:01.349618Z",
     "shell.execute_reply.started": "2021-11-25T17:21:18.598554Z"
    },
    "papermill": {
     "duration": 0.356798,
     "end_time": "2021-11-25T17:22:01.349788",
     "exception": false,
     "start_time": "2021-11-25T17:22:00.992990",
     "status": "completed"
    },
    "tags": []
   },
   "outputs": [
    {
     "name": "stdout",
     "output_type": "stream",
     "text": [
      "NBA Top Shot has 11790699 transactions (Highest amongst all)\n",
      "CryptoPunks has 18961 transactions (Relatively lower transaction)\n"
     ]
    },
    {
     "data": {
      "image/png": "[encoded data removed]",
      "text/plain": [
       "<Figure size 700x500 with 2 Axes>"
      ]
     },
     "metadata": {},
     "output_type": "display_data"
    }
   ],
   "source": [
    "most_transaction  = df['Transactions'].max()\n",
    "most_data = df[df['Transactions']==most_transaction]\n",
    "collection_of_most = most_data['Collections'].iloc[0]\n",
    "sales_of_most = most_data['Sales in USD'].iloc[0]\n",
    "\n",
    "lower_transact = df.iloc[1][3]\n",
    "collection_of_lower = df.iloc[1][0]\n",
    "sales_of_lower = df.iloc[1][1]\n",
    "\n",
    "print(f'{collection_of_most} has {most_transaction} transactions (Highest amongst all)')\n",
    "print(f'{collection_of_lower} has {lower_transact} transactions (Relatively lower transaction)')\n",
    "\n",
    "#LET'S VISUALIZE THIS USING GRAPHS\n",
    "collections = [collection_of_most,collection_of_lower]\n",
    "sales = [sales_of_most,sales_of_lower]\n",
    "transactions = [most_transaction,lower_transact]\n",
    "\n",
    "plt.style.use('Solarize_Light2')\n",
    "fig,ax1 = plt.subplots(figsize=(7,5))\n",
    "ax2=ax1.twinx()\n",
    "p = ax1.bar(collections,sales)\n",
    "ax2.plot(collections,transactions,'r-')\n",
    "ax1.bar_label(p)\n",
    "plt.title('Co-relation between Sales and Transactions')\n",
    "ax1.set_xlabel('NFT Collection')\n",
    "ax1.set_ylabel('Sales in $',color='g')\n",
    "ax2.set_ylabel('Transactions',color='r')\n",
    "plt.show()\n"
   ]
  },
  {
   "cell_type": "markdown",
   "id": "e242c1ec",
   "metadata": {
    "papermill": {
     "duration": 0.027786,
     "end_time": "2021-11-25T17:22:01.405697",
     "exception": false,
     "start_time": "2021-11-25T17:22:01.377911",
     "status": "completed"
    },
    "tags": []
   },
   "source": [
    "### The above graph shows that more number of transactions does not neccessary lead to more number of sales"
   ]
  }
 ],
 "metadata": {
  "kernelspec": {
   "display_name": "Python 3",
   "language": "python",
   "name": "python3"
  },
  "language_info": {
   "codemirror_mode": {
    "name": "ipython",
    "version": 3
   },
   "file_extension": ".py",
   "mimetype": "text/x-python",
   "name": "python",
   "nbconvert_exporter": "python",
   "pygments_lexer": "ipython3",
   "version": "3.7.10"
  },
  "papermill": {
   "default_parameters": {},
   "duration": 12.910968,
   "end_time": "2021-11-25T17:22:02.043689",
   "environment_variables": {},
   "exception": null,
   "input_path": "__notebook__.ipynb",
   "output_path": "__notebook__.ipynb",
   "parameters": {},
   "start_time": "2021-11-25T17:21:49.132721",
   "version": "2.3.3"
  }
 },
 "nbformat": 4,
 "nbformat_minor": 5
}
